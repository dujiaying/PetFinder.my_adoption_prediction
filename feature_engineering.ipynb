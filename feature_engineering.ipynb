{
 "cells": [
  {
   "cell_type": "markdown",
   "metadata": {},
   "source": [
    "# Feature Engineering"
   ]
  },
  {
   "cell_type": "code",
   "execution_count": 3,
   "metadata": {},
   "outputs": [],
   "source": [
    "# import the package\n",
    "import pandas as pd\n",
    "pd.set_option('display.max_columns', 100)"
   ]
  },
  {
   "cell_type": "code",
   "execution_count": 4,
   "metadata": {},
   "outputs": [],
   "source": [
    "# import the data\n",
    "df = pd.read_csv('processes_df1.csv')\n",
    "color = pd.read_csv('data/color_labels.csv')\n",
    "state = pd.read_csv('data/state_labels.csv')"
   ]
  },
  {
   "cell_type": "code",
   "execution_count": 5,
   "metadata": {},
   "outputs": [
    {
     "output_type": "execute_result",
     "data": {
      "text/plain": "   Type         Name  Age  Breed1  Breed2  Gender  Color1  Color2  Color3  \\\n0     2       Nibble    3     299       0       1       1       7       0   \n1     2  No Name Yet    1     265       0       1       1       2       0   \n2     1       Brisco    1     307       0       1       2       7       0   \n3     1         Miko    4     307       0       2       1       2       0   \n4     1       Hunter    1     307       0       1       1       0       0   \n\n   MaturitySize  FurLength  Vaccinated  Dewormed  Sterilized  Health  \\\n0             1          1           2         2           2       1   \n1             2          2           3         3           3       1   \n2             2          2           1         1           2       1   \n3             2          1           1         1           2       1   \n4             2          1           2         2           2       1   \n\n   Quantity  Fee  State                         RescuerID  VideoAmt  \\\n0         1  100  41326  8480853f516546f6cf33aa88cd76c379         0   \n1         1    0  41401  3082c7125d8fb66f7dd4bff4192c8b14         0   \n2         1    0  41326  fa90fa5b1ee11c86938398b60abc32cb         0   \n3         1  150  41401  9238e4f44c71a75282e62f7136c6b240         0   \n4         1    0  41326  95481e953f8aed9ec3d16fc4509537e8         0   \n\n                                         Description      PetID  PhotoAmt  \\\n0  Nibble is a 3+ month old ball of cuteness. He ...  86e1089a3       1.0   \n1  I just found it alone yesterday near my apartm...  6296e909a       2.0   \n2  Their pregnant mother was dumped by her irresp...  3422e4906       7.0   \n3  Good guard dog, very alert, active, obedience ...  5842f1ff5       8.0   \n4  This handsome yet cute boy is up for adoption....  850a43f90       3.0   \n\n   AdoptionSpeed  PureBreed  ColorNum  DescCharLength  DescWordLength  \\\n0              2          1         2             359              69   \n1              0          1         2             118              23   \n2              3          1         2             393              69   \n3              2          1         2             146              25   \n4              2          1         1             390              81   \n\n  DescLang  DescNeg  DescNeu  DescPos  DescCompound DescSentiment  \n0       en    0.000    0.742    0.258        0.9552           pos  \n1       en    0.149    0.723    0.129        0.1280           pos  \n2       en    0.095    0.706    0.200        0.7650           pos  \n3       en    0.000    0.490    0.510        0.9494           pos  \n4       en    0.000    0.635    0.365        0.9880           pos  ",
      "text/html": "<div>\n<style scoped>\n    .dataframe tbody tr th:only-of-type {\n        vertical-align: middle;\n    }\n\n    .dataframe tbody tr th {\n        vertical-align: top;\n    }\n\n    .dataframe thead th {\n        text-align: right;\n    }\n</style>\n<table border=\"1\" class=\"dataframe\">\n  <thead>\n    <tr style=\"text-align: right;\">\n      <th></th>\n      <th>Type</th>\n      <th>Name</th>\n      <th>Age</th>\n      <th>Breed1</th>\n      <th>Breed2</th>\n      <th>Gender</th>\n      <th>Color1</th>\n      <th>Color2</th>\n      <th>Color3</th>\n      <th>MaturitySize</th>\n      <th>FurLength</th>\n      <th>Vaccinated</th>\n      <th>Dewormed</th>\n      <th>Sterilized</th>\n      <th>Health</th>\n      <th>Quantity</th>\n      <th>Fee</th>\n      <th>State</th>\n      <th>RescuerID</th>\n      <th>VideoAmt</th>\n      <th>Description</th>\n      <th>PetID</th>\n      <th>PhotoAmt</th>\n      <th>AdoptionSpeed</th>\n      <th>PureBreed</th>\n      <th>ColorNum</th>\n      <th>DescCharLength</th>\n      <th>DescWordLength</th>\n      <th>DescLang</th>\n      <th>DescNeg</th>\n      <th>DescNeu</th>\n      <th>DescPos</th>\n      <th>DescCompound</th>\n      <th>DescSentiment</th>\n    </tr>\n  </thead>\n  <tbody>\n    <tr>\n      <th>0</th>\n      <td>2</td>\n      <td>Nibble</td>\n      <td>3</td>\n      <td>299</td>\n      <td>0</td>\n      <td>1</td>\n      <td>1</td>\n      <td>7</td>\n      <td>0</td>\n      <td>1</td>\n      <td>1</td>\n      <td>2</td>\n      <td>2</td>\n      <td>2</td>\n      <td>1</td>\n      <td>1</td>\n      <td>100</td>\n      <td>41326</td>\n      <td>8480853f516546f6cf33aa88cd76c379</td>\n      <td>0</td>\n      <td>Nibble is a 3+ month old ball of cuteness. He ...</td>\n      <td>86e1089a3</td>\n      <td>1.0</td>\n      <td>2</td>\n      <td>1</td>\n      <td>2</td>\n      <td>359</td>\n      <td>69</td>\n      <td>en</td>\n      <td>0.000</td>\n      <td>0.742</td>\n      <td>0.258</td>\n      <td>0.9552</td>\n      <td>pos</td>\n    </tr>\n    <tr>\n      <th>1</th>\n      <td>2</td>\n      <td>No Name Yet</td>\n      <td>1</td>\n      <td>265</td>\n      <td>0</td>\n      <td>1</td>\n      <td>1</td>\n      <td>2</td>\n      <td>0</td>\n      <td>2</td>\n      <td>2</td>\n      <td>3</td>\n      <td>3</td>\n      <td>3</td>\n      <td>1</td>\n      <td>1</td>\n      <td>0</td>\n      <td>41401</td>\n      <td>3082c7125d8fb66f7dd4bff4192c8b14</td>\n      <td>0</td>\n      <td>I just found it alone yesterday near my apartm...</td>\n      <td>6296e909a</td>\n      <td>2.0</td>\n      <td>0</td>\n      <td>1</td>\n      <td>2</td>\n      <td>118</td>\n      <td>23</td>\n      <td>en</td>\n      <td>0.149</td>\n      <td>0.723</td>\n      <td>0.129</td>\n      <td>0.1280</td>\n      <td>pos</td>\n    </tr>\n    <tr>\n      <th>2</th>\n      <td>1</td>\n      <td>Brisco</td>\n      <td>1</td>\n      <td>307</td>\n      <td>0</td>\n      <td>1</td>\n      <td>2</td>\n      <td>7</td>\n      <td>0</td>\n      <td>2</td>\n      <td>2</td>\n      <td>1</td>\n      <td>1</td>\n      <td>2</td>\n      <td>1</td>\n      <td>1</td>\n      <td>0</td>\n      <td>41326</td>\n      <td>fa90fa5b1ee11c86938398b60abc32cb</td>\n      <td>0</td>\n      <td>Their pregnant mother was dumped by her irresp...</td>\n      <td>3422e4906</td>\n      <td>7.0</td>\n      <td>3</td>\n      <td>1</td>\n      <td>2</td>\n      <td>393</td>\n      <td>69</td>\n      <td>en</td>\n      <td>0.095</td>\n      <td>0.706</td>\n      <td>0.200</td>\n      <td>0.7650</td>\n      <td>pos</td>\n    </tr>\n    <tr>\n      <th>3</th>\n      <td>1</td>\n      <td>Miko</td>\n      <td>4</td>\n      <td>307</td>\n      <td>0</td>\n      <td>2</td>\n      <td>1</td>\n      <td>2</td>\n      <td>0</td>\n      <td>2</td>\n      <td>1</td>\n      <td>1</td>\n      <td>1</td>\n      <td>2</td>\n      <td>1</td>\n      <td>1</td>\n      <td>150</td>\n      <td>41401</td>\n      <td>9238e4f44c71a75282e62f7136c6b240</td>\n      <td>0</td>\n      <td>Good guard dog, very alert, active, obedience ...</td>\n      <td>5842f1ff5</td>\n      <td>8.0</td>\n      <td>2</td>\n      <td>1</td>\n      <td>2</td>\n      <td>146</td>\n      <td>25</td>\n      <td>en</td>\n      <td>0.000</td>\n      <td>0.490</td>\n      <td>0.510</td>\n      <td>0.9494</td>\n      <td>pos</td>\n    </tr>\n    <tr>\n      <th>4</th>\n      <td>1</td>\n      <td>Hunter</td>\n      <td>1</td>\n      <td>307</td>\n      <td>0</td>\n      <td>1</td>\n      <td>1</td>\n      <td>0</td>\n      <td>0</td>\n      <td>2</td>\n      <td>1</td>\n      <td>2</td>\n      <td>2</td>\n      <td>2</td>\n      <td>1</td>\n      <td>1</td>\n      <td>0</td>\n      <td>41326</td>\n      <td>95481e953f8aed9ec3d16fc4509537e8</td>\n      <td>0</td>\n      <td>This handsome yet cute boy is up for adoption....</td>\n      <td>850a43f90</td>\n      <td>3.0</td>\n      <td>2</td>\n      <td>1</td>\n      <td>1</td>\n      <td>390</td>\n      <td>81</td>\n      <td>en</td>\n      <td>0.000</td>\n      <td>0.635</td>\n      <td>0.365</td>\n      <td>0.9880</td>\n      <td>pos</td>\n    </tr>\n  </tbody>\n</table>\n</div>"
     },
     "metadata": {},
     "execution_count": 5
    }
   ],
   "source": [
    "df.head()"
   ]
  },
  {
   "cell_type": "code",
   "execution_count": 6,
   "metadata": {},
   "outputs": [
    {
     "output_type": "execute_result",
     "data": {
      "text/plain": "   Color_Black  Color_Brown  Color_Cream  Color_Golden  Color_Gray  \\\n0            1            0            0             0           0   \n1            1            0            0             0           0   \n2            0            1            0             0           0   \n3            1            0            0             0           0   \n4            1            0            0             0           0   \n\n   Color_White  Color_Yellow  \n0            0             0  \n1            0             0  \n2            0             0  \n3            0             0  \n4            0             0  ",
      "text/html": "<div>\n<style scoped>\n    .dataframe tbody tr th:only-of-type {\n        vertical-align: middle;\n    }\n\n    .dataframe tbody tr th {\n        vertical-align: top;\n    }\n\n    .dataframe thead th {\n        text-align: right;\n    }\n</style>\n<table border=\"1\" class=\"dataframe\">\n  <thead>\n    <tr style=\"text-align: right;\">\n      <th></th>\n      <th>Color_Black</th>\n      <th>Color_Brown</th>\n      <th>Color_Cream</th>\n      <th>Color_Golden</th>\n      <th>Color_Gray</th>\n      <th>Color_White</th>\n      <th>Color_Yellow</th>\n    </tr>\n  </thead>\n  <tbody>\n    <tr>\n      <th>0</th>\n      <td>1</td>\n      <td>0</td>\n      <td>0</td>\n      <td>0</td>\n      <td>0</td>\n      <td>0</td>\n      <td>0</td>\n    </tr>\n    <tr>\n      <th>1</th>\n      <td>1</td>\n      <td>0</td>\n      <td>0</td>\n      <td>0</td>\n      <td>0</td>\n      <td>0</td>\n      <td>0</td>\n    </tr>\n    <tr>\n      <th>2</th>\n      <td>0</td>\n      <td>1</td>\n      <td>0</td>\n      <td>0</td>\n      <td>0</td>\n      <td>0</td>\n      <td>0</td>\n    </tr>\n    <tr>\n      <th>3</th>\n      <td>1</td>\n      <td>0</td>\n      <td>0</td>\n      <td>0</td>\n      <td>0</td>\n      <td>0</td>\n      <td>0</td>\n    </tr>\n    <tr>\n      <th>4</th>\n      <td>1</td>\n      <td>0</td>\n      <td>0</td>\n      <td>0</td>\n      <td>0</td>\n      <td>0</td>\n      <td>0</td>\n    </tr>\n  </tbody>\n</table>\n</div>"
     },
     "metadata": {},
     "execution_count": 6
    }
   ],
   "source": [
    "# color\n",
    "color1_df = df[['Color1']].merge(color, how='left', left_on='Color1', right_on='ColorID')\n",
    "color1_dummy = pd.get_dummies(color1_df.ColorName, prefix='Color')\n",
    "color1_dummy.head()"
   ]
  },
  {
   "cell_type": "code",
   "execution_count": 7,
   "metadata": {},
   "outputs": [
    {
     "output_type": "execute_result",
     "data": {
      "text/plain": "   Color_Brown  Color_Cream  Color_Golden  Color_Gray  Color_White  \\\n0            0            0             0           0            1   \n1            1            0             0           0            0   \n2            0            0             0           0            1   \n3            1            0             0           0            0   \n4            0            0             0           0            0   \n\n   Color_Yellow  \n0             0  \n1             0  \n2             0  \n3             0  \n4             0  ",
      "text/html": "<div>\n<style scoped>\n    .dataframe tbody tr th:only-of-type {\n        vertical-align: middle;\n    }\n\n    .dataframe tbody tr th {\n        vertical-align: top;\n    }\n\n    .dataframe thead th {\n        text-align: right;\n    }\n</style>\n<table border=\"1\" class=\"dataframe\">\n  <thead>\n    <tr style=\"text-align: right;\">\n      <th></th>\n      <th>Color_Brown</th>\n      <th>Color_Cream</th>\n      <th>Color_Golden</th>\n      <th>Color_Gray</th>\n      <th>Color_White</th>\n      <th>Color_Yellow</th>\n    </tr>\n  </thead>\n  <tbody>\n    <tr>\n      <th>0</th>\n      <td>0</td>\n      <td>0</td>\n      <td>0</td>\n      <td>0</td>\n      <td>1</td>\n      <td>0</td>\n    </tr>\n    <tr>\n      <th>1</th>\n      <td>1</td>\n      <td>0</td>\n      <td>0</td>\n      <td>0</td>\n      <td>0</td>\n      <td>0</td>\n    </tr>\n    <tr>\n      <th>2</th>\n      <td>0</td>\n      <td>0</td>\n      <td>0</td>\n      <td>0</td>\n      <td>1</td>\n      <td>0</td>\n    </tr>\n    <tr>\n      <th>3</th>\n      <td>1</td>\n      <td>0</td>\n      <td>0</td>\n      <td>0</td>\n      <td>0</td>\n      <td>0</td>\n    </tr>\n    <tr>\n      <th>4</th>\n      <td>0</td>\n      <td>0</td>\n      <td>0</td>\n      <td>0</td>\n      <td>0</td>\n      <td>0</td>\n    </tr>\n  </tbody>\n</table>\n</div>"
     },
     "metadata": {},
     "execution_count": 7
    }
   ],
   "source": [
    "color2_df = df[['Color2']].merge(color, how='left', left_on='Color2', right_on='ColorID')\n",
    "color2_dummy = pd.get_dummies(color2_df.ColorName, prefix='Color')\n",
    "color2_dummy.head()"
   ]
  },
  {
   "cell_type": "code",
   "execution_count": 8,
   "metadata": {},
   "outputs": [
    {
     "output_type": "execute_result",
     "data": {
      "text/plain": "   Color_Cream  Color_Golden  Color_Gray  Color_White  Color_Yellow\n0            0             0           0            0             0\n1            0             0           0            0             0\n2            0             0           0            0             0\n3            0             0           0            0             0\n4            0             0           0            0             0",
      "text/html": "<div>\n<style scoped>\n    .dataframe tbody tr th:only-of-type {\n        vertical-align: middle;\n    }\n\n    .dataframe tbody tr th {\n        vertical-align: top;\n    }\n\n    .dataframe thead th {\n        text-align: right;\n    }\n</style>\n<table border=\"1\" class=\"dataframe\">\n  <thead>\n    <tr style=\"text-align: right;\">\n      <th></th>\n      <th>Color_Cream</th>\n      <th>Color_Golden</th>\n      <th>Color_Gray</th>\n      <th>Color_White</th>\n      <th>Color_Yellow</th>\n    </tr>\n  </thead>\n  <tbody>\n    <tr>\n      <th>0</th>\n      <td>0</td>\n      <td>0</td>\n      <td>0</td>\n      <td>0</td>\n      <td>0</td>\n    </tr>\n    <tr>\n      <th>1</th>\n      <td>0</td>\n      <td>0</td>\n      <td>0</td>\n      <td>0</td>\n      <td>0</td>\n    </tr>\n    <tr>\n      <th>2</th>\n      <td>0</td>\n      <td>0</td>\n      <td>0</td>\n      <td>0</td>\n      <td>0</td>\n    </tr>\n    <tr>\n      <th>3</th>\n      <td>0</td>\n      <td>0</td>\n      <td>0</td>\n      <td>0</td>\n      <td>0</td>\n    </tr>\n    <tr>\n      <th>4</th>\n      <td>0</td>\n      <td>0</td>\n      <td>0</td>\n      <td>0</td>\n      <td>0</td>\n    </tr>\n  </tbody>\n</table>\n</div>"
     },
     "metadata": {},
     "execution_count": 8
    }
   ],
   "source": [
    "color3_df = df[['Color3']].merge(color, how='left', left_on='Color3', right_on='ColorID')\n",
    "color3_dummy = pd.get_dummies(color3_df.ColorName, prefix='Color')\n",
    "color3_dummy.head()"
   ]
  },
  {
   "cell_type": "code",
   "execution_count": 9,
   "metadata": {},
   "outputs": [],
   "source": [
    "color2_dummy['Color_Black'] = 0\n",
    "color3_dummy['Color_Black'] = 0\n",
    "color3_dummy['Color_Brown'] = 0"
   ]
  },
  {
   "cell_type": "code",
   "execution_count": 10,
   "metadata": {},
   "outputs": [
    {
     "output_type": "execute_result",
     "data": {
      "text/plain": "   Color_Black  Color_Brown  Color_Cream  Color_Golden  Color_Gray  \\\n0            1            0            0             0           0   \n1            1            1            0             0           0   \n2            0            1            0             0           0   \n3            1            1            0             0           0   \n4            1            0            0             0           0   \n\n   Color_White  Color_Yellow  \n0            1             0  \n1            0             0  \n2            1             0  \n3            0             0  \n4            0             0  ",
      "text/html": "<div>\n<style scoped>\n    .dataframe tbody tr th:only-of-type {\n        vertical-align: middle;\n    }\n\n    .dataframe tbody tr th {\n        vertical-align: top;\n    }\n\n    .dataframe thead th {\n        text-align: right;\n    }\n</style>\n<table border=\"1\" class=\"dataframe\">\n  <thead>\n    <tr style=\"text-align: right;\">\n      <th></th>\n      <th>Color_Black</th>\n      <th>Color_Brown</th>\n      <th>Color_Cream</th>\n      <th>Color_Golden</th>\n      <th>Color_Gray</th>\n      <th>Color_White</th>\n      <th>Color_Yellow</th>\n    </tr>\n  </thead>\n  <tbody>\n    <tr>\n      <th>0</th>\n      <td>1</td>\n      <td>0</td>\n      <td>0</td>\n      <td>0</td>\n      <td>0</td>\n      <td>1</td>\n      <td>0</td>\n    </tr>\n    <tr>\n      <th>1</th>\n      <td>1</td>\n      <td>1</td>\n      <td>0</td>\n      <td>0</td>\n      <td>0</td>\n      <td>0</td>\n      <td>0</td>\n    </tr>\n    <tr>\n      <th>2</th>\n      <td>0</td>\n      <td>1</td>\n      <td>0</td>\n      <td>0</td>\n      <td>0</td>\n      <td>1</td>\n      <td>0</td>\n    </tr>\n    <tr>\n      <th>3</th>\n      <td>1</td>\n      <td>1</td>\n      <td>0</td>\n      <td>0</td>\n      <td>0</td>\n      <td>0</td>\n      <td>0</td>\n    </tr>\n    <tr>\n      <th>4</th>\n      <td>1</td>\n      <td>0</td>\n      <td>0</td>\n      <td>0</td>\n      <td>0</td>\n      <td>0</td>\n      <td>0</td>\n    </tr>\n  </tbody>\n</table>\n</div>"
     },
     "metadata": {},
     "execution_count": 10
    }
   ],
   "source": [
    "color_dummy = color1_dummy + color2_dummy + color3_dummy\n",
    "color_dummy.head()"
   ]
  },
  {
   "cell_type": "code",
   "execution_count": 11,
   "metadata": {},
   "outputs": [
    {
     "output_type": "execute_result",
     "data": {
      "text/plain": "   Type         Name  Age  Breed1  Breed2  Gender  Color1  Color2  Color3  \\\n0     2       Nibble    3     299       0       1       1       7       0   \n1     2  No Name Yet    1     265       0       1       1       2       0   \n2     1       Brisco    1     307       0       1       2       7       0   \n3     1         Miko    4     307       0       2       1       2       0   \n4     1       Hunter    1     307       0       1       1       0       0   \n\n   MaturitySize  FurLength  Vaccinated  Dewormed  Sterilized  Health  \\\n0             1          1           2         2           2       1   \n1             2          2           3         3           3       1   \n2             2          2           1         1           2       1   \n3             2          1           1         1           2       1   \n4             2          1           2         2           2       1   \n\n   Quantity  Fee  State                         RescuerID  VideoAmt  \\\n0         1  100  41326  8480853f516546f6cf33aa88cd76c379         0   \n1         1    0  41401  3082c7125d8fb66f7dd4bff4192c8b14         0   \n2         1    0  41326  fa90fa5b1ee11c86938398b60abc32cb         0   \n3         1  150  41401  9238e4f44c71a75282e62f7136c6b240         0   \n4         1    0  41326  95481e953f8aed9ec3d16fc4509537e8         0   \n\n                                         Description      PetID  PhotoAmt  \\\n0  Nibble is a 3+ month old ball of cuteness. He ...  86e1089a3       1.0   \n1  I just found it alone yesterday near my apartm...  6296e909a       2.0   \n2  Their pregnant mother was dumped by her irresp...  3422e4906       7.0   \n3  Good guard dog, very alert, active, obedience ...  5842f1ff5       8.0   \n4  This handsome yet cute boy is up for adoption....  850a43f90       3.0   \n\n   AdoptionSpeed  PureBreed  ColorNum  DescCharLength  DescWordLength  \\\n0              2          1         2             359              69   \n1              0          1         2             118              23   \n2              3          1         2             393              69   \n3              2          1         2             146              25   \n4              2          1         1             390              81   \n\n  DescLang  DescNeg  DescNeu  DescPos  DescCompound DescSentiment  \\\n0       en    0.000    0.742    0.258        0.9552           pos   \n1       en    0.149    0.723    0.129        0.1280           pos   \n2       en    0.095    0.706    0.200        0.7650           pos   \n3       en    0.000    0.490    0.510        0.9494           pos   \n4       en    0.000    0.635    0.365        0.9880           pos   \n\n   Color_Black  Color_Brown  Color_Cream  Color_Golden  Color_Gray  \\\n0            1            0            0             0           0   \n1            1            1            0             0           0   \n2            0            1            0             0           0   \n3            1            1            0             0           0   \n4            1            0            0             0           0   \n\n   Color_White  Color_Yellow  \n0            1             0  \n1            0             0  \n2            1             0  \n3            0             0  \n4            0             0  ",
      "text/html": "<div>\n<style scoped>\n    .dataframe tbody tr th:only-of-type {\n        vertical-align: middle;\n    }\n\n    .dataframe tbody tr th {\n        vertical-align: top;\n    }\n\n    .dataframe thead th {\n        text-align: right;\n    }\n</style>\n<table border=\"1\" class=\"dataframe\">\n  <thead>\n    <tr style=\"text-align: right;\">\n      <th></th>\n      <th>Type</th>\n      <th>Name</th>\n      <th>Age</th>\n      <th>Breed1</th>\n      <th>Breed2</th>\n      <th>Gender</th>\n      <th>Color1</th>\n      <th>Color2</th>\n      <th>Color3</th>\n      <th>MaturitySize</th>\n      <th>FurLength</th>\n      <th>Vaccinated</th>\n      <th>Dewormed</th>\n      <th>Sterilized</th>\n      <th>Health</th>\n      <th>Quantity</th>\n      <th>Fee</th>\n      <th>State</th>\n      <th>RescuerID</th>\n      <th>VideoAmt</th>\n      <th>Description</th>\n      <th>PetID</th>\n      <th>PhotoAmt</th>\n      <th>AdoptionSpeed</th>\n      <th>PureBreed</th>\n      <th>ColorNum</th>\n      <th>DescCharLength</th>\n      <th>DescWordLength</th>\n      <th>DescLang</th>\n      <th>DescNeg</th>\n      <th>DescNeu</th>\n      <th>DescPos</th>\n      <th>DescCompound</th>\n      <th>DescSentiment</th>\n      <th>Color_Black</th>\n      <th>Color_Brown</th>\n      <th>Color_Cream</th>\n      <th>Color_Golden</th>\n      <th>Color_Gray</th>\n      <th>Color_White</th>\n      <th>Color_Yellow</th>\n    </tr>\n  </thead>\n  <tbody>\n    <tr>\n      <th>0</th>\n      <td>2</td>\n      <td>Nibble</td>\n      <td>3</td>\n      <td>299</td>\n      <td>0</td>\n      <td>1</td>\n      <td>1</td>\n      <td>7</td>\n      <td>0</td>\n      <td>1</td>\n      <td>1</td>\n      <td>2</td>\n      <td>2</td>\n      <td>2</td>\n      <td>1</td>\n      <td>1</td>\n      <td>100</td>\n      <td>41326</td>\n      <td>8480853f516546f6cf33aa88cd76c379</td>\n      <td>0</td>\n      <td>Nibble is a 3+ month old ball of cuteness. He ...</td>\n      <td>86e1089a3</td>\n      <td>1.0</td>\n      <td>2</td>\n      <td>1</td>\n      <td>2</td>\n      <td>359</td>\n      <td>69</td>\n      <td>en</td>\n      <td>0.000</td>\n      <td>0.742</td>\n      <td>0.258</td>\n      <td>0.9552</td>\n      <td>pos</td>\n      <td>1</td>\n      <td>0</td>\n      <td>0</td>\n      <td>0</td>\n      <td>0</td>\n      <td>1</td>\n      <td>0</td>\n    </tr>\n    <tr>\n      <th>1</th>\n      <td>2</td>\n      <td>No Name Yet</td>\n      <td>1</td>\n      <td>265</td>\n      <td>0</td>\n      <td>1</td>\n      <td>1</td>\n      <td>2</td>\n      <td>0</td>\n      <td>2</td>\n      <td>2</td>\n      <td>3</td>\n      <td>3</td>\n      <td>3</td>\n      <td>1</td>\n      <td>1</td>\n      <td>0</td>\n      <td>41401</td>\n      <td>3082c7125d8fb66f7dd4bff4192c8b14</td>\n      <td>0</td>\n      <td>I just found it alone yesterday near my apartm...</td>\n      <td>6296e909a</td>\n      <td>2.0</td>\n      <td>0</td>\n      <td>1</td>\n      <td>2</td>\n      <td>118</td>\n      <td>23</td>\n      <td>en</td>\n      <td>0.149</td>\n      <td>0.723</td>\n      <td>0.129</td>\n      <td>0.1280</td>\n      <td>pos</td>\n      <td>1</td>\n      <td>1</td>\n      <td>0</td>\n      <td>0</td>\n      <td>0</td>\n      <td>0</td>\n      <td>0</td>\n    </tr>\n    <tr>\n      <th>2</th>\n      <td>1</td>\n      <td>Brisco</td>\n      <td>1</td>\n      <td>307</td>\n      <td>0</td>\n      <td>1</td>\n      <td>2</td>\n      <td>7</td>\n      <td>0</td>\n      <td>2</td>\n      <td>2</td>\n      <td>1</td>\n      <td>1</td>\n      <td>2</td>\n      <td>1</td>\n      <td>1</td>\n      <td>0</td>\n      <td>41326</td>\n      <td>fa90fa5b1ee11c86938398b60abc32cb</td>\n      <td>0</td>\n      <td>Their pregnant mother was dumped by her irresp...</td>\n      <td>3422e4906</td>\n      <td>7.0</td>\n      <td>3</td>\n      <td>1</td>\n      <td>2</td>\n      <td>393</td>\n      <td>69</td>\n      <td>en</td>\n      <td>0.095</td>\n      <td>0.706</td>\n      <td>0.200</td>\n      <td>0.7650</td>\n      <td>pos</td>\n      <td>0</td>\n      <td>1</td>\n      <td>0</td>\n      <td>0</td>\n      <td>0</td>\n      <td>1</td>\n      <td>0</td>\n    </tr>\n    <tr>\n      <th>3</th>\n      <td>1</td>\n      <td>Miko</td>\n      <td>4</td>\n      <td>307</td>\n      <td>0</td>\n      <td>2</td>\n      <td>1</td>\n      <td>2</td>\n      <td>0</td>\n      <td>2</td>\n      <td>1</td>\n      <td>1</td>\n      <td>1</td>\n      <td>2</td>\n      <td>1</td>\n      <td>1</td>\n      <td>150</td>\n      <td>41401</td>\n      <td>9238e4f44c71a75282e62f7136c6b240</td>\n      <td>0</td>\n      <td>Good guard dog, very alert, active, obedience ...</td>\n      <td>5842f1ff5</td>\n      <td>8.0</td>\n      <td>2</td>\n      <td>1</td>\n      <td>2</td>\n      <td>146</td>\n      <td>25</td>\n      <td>en</td>\n      <td>0.000</td>\n      <td>0.490</td>\n      <td>0.510</td>\n      <td>0.9494</td>\n      <td>pos</td>\n      <td>1</td>\n      <td>1</td>\n      <td>0</td>\n      <td>0</td>\n      <td>0</td>\n      <td>0</td>\n      <td>0</td>\n    </tr>\n    <tr>\n      <th>4</th>\n      <td>1</td>\n      <td>Hunter</td>\n      <td>1</td>\n      <td>307</td>\n      <td>0</td>\n      <td>1</td>\n      <td>1</td>\n      <td>0</td>\n      <td>0</td>\n      <td>2</td>\n      <td>1</td>\n      <td>2</td>\n      <td>2</td>\n      <td>2</td>\n      <td>1</td>\n      <td>1</td>\n      <td>0</td>\n      <td>41326</td>\n      <td>95481e953f8aed9ec3d16fc4509537e8</td>\n      <td>0</td>\n      <td>This handsome yet cute boy is up for adoption....</td>\n      <td>850a43f90</td>\n      <td>3.0</td>\n      <td>2</td>\n      <td>1</td>\n      <td>1</td>\n      <td>390</td>\n      <td>81</td>\n      <td>en</td>\n      <td>0.000</td>\n      <td>0.635</td>\n      <td>0.365</td>\n      <td>0.9880</td>\n      <td>pos</td>\n      <td>1</td>\n      <td>0</td>\n      <td>0</td>\n      <td>0</td>\n      <td>0</td>\n      <td>0</td>\n      <td>0</td>\n    </tr>\n  </tbody>\n</table>\n</div>"
     },
     "metadata": {},
     "execution_count": 11
    }
   ],
   "source": [
    "df = pd.concat([df, color_dummy], axis=1)\n",
    "df.head()"
   ]
  },
  {
   "cell_type": "code",
   "execution_count": 12,
   "metadata": {},
   "outputs": [
    {
     "output_type": "execute_result",
     "data": {
      "text/plain": "Selangor           8714\nKuala Lumpur       3845\nPulau Pinang        843\nJohor               507\nPerak               420\nNegeri Sembilan     253\nMelaka              137\nKedah               110\nPahang               85\nTerengganu           26\nSabah                22\nKelantan             15\nSarawak              13\nLabuan                3\nName: StateName, dtype: int64"
     },
     "metadata": {},
     "execution_count": 12
    }
   ],
   "source": [
    "# state\n",
    "state_df = df[['State']].merge(state, left_on='State', right_on='StateID')\n",
    "state_count = state_df.StateName.value_counts()\n",
    "state_count"
   ]
  },
  {
   "cell_type": "code",
   "execution_count": 13,
   "metadata": {},
   "outputs": [
    {
     "output_type": "execute_result",
     "data": {
      "text/plain": "Selangor        8714\nKuala Lumpur    3845\nPulau Pinang     843\nOther            664\nJohor            507\nPerak            420\nName: StateName, dtype: int64"
     },
     "metadata": {},
     "execution_count": 13
    }
   ],
   "source": [
    "state_other = state_df.StateName.apply(lambda x: 'Other' if x not in state_count.head(5).index else x)\n",
    "state_other.value_counts()"
   ]
  },
  {
   "cell_type": "code",
   "execution_count": 14,
   "metadata": {},
   "outputs": [
    {
     "output_type": "execute_result",
     "data": {
      "text/plain": "   Type         Name  Age  Breed1  Breed2  Gender  Color1  Color2  Color3  \\\n0     2       Nibble    3     299       0       1       1       7       0   \n1     2  No Name Yet    1     265       0       1       1       2       0   \n2     1       Brisco    1     307       0       1       2       7       0   \n3     1         Miko    4     307       0       2       1       2       0   \n4     1       Hunter    1     307       0       1       1       0       0   \n\n   MaturitySize  FurLength  Vaccinated  Dewormed  Sterilized  Health  \\\n0             1          1           2         2           2       1   \n1             2          2           3         3           3       1   \n2             2          2           1         1           2       1   \n3             2          1           1         1           2       1   \n4             2          1           2         2           2       1   \n\n   Quantity  Fee  State                         RescuerID  VideoAmt  \\\n0         1  100  41326  8480853f516546f6cf33aa88cd76c379         0   \n1         1    0  41401  3082c7125d8fb66f7dd4bff4192c8b14         0   \n2         1    0  41326  fa90fa5b1ee11c86938398b60abc32cb         0   \n3         1  150  41401  9238e4f44c71a75282e62f7136c6b240         0   \n4         1    0  41326  95481e953f8aed9ec3d16fc4509537e8         0   \n\n                                         Description      PetID  PhotoAmt  \\\n0  Nibble is a 3+ month old ball of cuteness. He ...  86e1089a3       1.0   \n1  I just found it alone yesterday near my apartm...  6296e909a       2.0   \n2  Their pregnant mother was dumped by her irresp...  3422e4906       7.0   \n3  Good guard dog, very alert, active, obedience ...  5842f1ff5       8.0   \n4  This handsome yet cute boy is up for adoption....  850a43f90       3.0   \n\n   AdoptionSpeed  PureBreed  ColorNum  DescCharLength  DescWordLength  \\\n0              2          1         2             359              69   \n1              0          1         2             118              23   \n2              3          1         2             393              69   \n3              2          1         2             146              25   \n4              2          1         1             390              81   \n\n  DescLang  DescNeg  DescNeu  DescPos  DescCompound DescSentiment  \\\n0       en    0.000    0.742    0.258        0.9552           pos   \n1       en    0.149    0.723    0.129        0.1280           pos   \n2       en    0.095    0.706    0.200        0.7650           pos   \n3       en    0.000    0.490    0.510        0.9494           pos   \n4       en    0.000    0.635    0.365        0.9880           pos   \n\n   Color_Black  Color_Brown  Color_Cream  Color_Golden  Color_Gray  \\\n0            1            0            0             0           0   \n1            1            1            0             0           0   \n2            0            1            0             0           0   \n3            1            1            0             0           0   \n4            1            0            0             0           0   \n\n   Color_White  Color_Yellow  State_Johor  State_Kuala Lumpur  State_Other  \\\n0            1             0            0                   0            0   \n1            0             0            0                   0            0   \n2            1             0            0                   0            0   \n3            0             0            0                   0            0   \n4            0             0            0                   0            0   \n\n   State_Perak  State_Pulau Pinang  State_Selangor  \n0            0                   0               1  \n1            0                   0               1  \n2            0                   0               1  \n3            0                   0               1  \n4            0                   0               1  ",
      "text/html": "<div>\n<style scoped>\n    .dataframe tbody tr th:only-of-type {\n        vertical-align: middle;\n    }\n\n    .dataframe tbody tr th {\n        vertical-align: top;\n    }\n\n    .dataframe thead th {\n        text-align: right;\n    }\n</style>\n<table border=\"1\" class=\"dataframe\">\n  <thead>\n    <tr style=\"text-align: right;\">\n      <th></th>\n      <th>Type</th>\n      <th>Name</th>\n      <th>Age</th>\n      <th>Breed1</th>\n      <th>Breed2</th>\n      <th>Gender</th>\n      <th>Color1</th>\n      <th>Color2</th>\n      <th>Color3</th>\n      <th>MaturitySize</th>\n      <th>FurLength</th>\n      <th>Vaccinated</th>\n      <th>Dewormed</th>\n      <th>Sterilized</th>\n      <th>Health</th>\n      <th>Quantity</th>\n      <th>Fee</th>\n      <th>State</th>\n      <th>RescuerID</th>\n      <th>VideoAmt</th>\n      <th>Description</th>\n      <th>PetID</th>\n      <th>PhotoAmt</th>\n      <th>AdoptionSpeed</th>\n      <th>PureBreed</th>\n      <th>ColorNum</th>\n      <th>DescCharLength</th>\n      <th>DescWordLength</th>\n      <th>DescLang</th>\n      <th>DescNeg</th>\n      <th>DescNeu</th>\n      <th>DescPos</th>\n      <th>DescCompound</th>\n      <th>DescSentiment</th>\n      <th>Color_Black</th>\n      <th>Color_Brown</th>\n      <th>Color_Cream</th>\n      <th>Color_Golden</th>\n      <th>Color_Gray</th>\n      <th>Color_White</th>\n      <th>Color_Yellow</th>\n      <th>State_Johor</th>\n      <th>State_Kuala Lumpur</th>\n      <th>State_Other</th>\n      <th>State_Perak</th>\n      <th>State_Pulau Pinang</th>\n      <th>State_Selangor</th>\n    </tr>\n  </thead>\n  <tbody>\n    <tr>\n      <th>0</th>\n      <td>2</td>\n      <td>Nibble</td>\n      <td>3</td>\n      <td>299</td>\n      <td>0</td>\n      <td>1</td>\n      <td>1</td>\n      <td>7</td>\n      <td>0</td>\n      <td>1</td>\n      <td>1</td>\n      <td>2</td>\n      <td>2</td>\n      <td>2</td>\n      <td>1</td>\n      <td>1</td>\n      <td>100</td>\n      <td>41326</td>\n      <td>8480853f516546f6cf33aa88cd76c379</td>\n      <td>0</td>\n      <td>Nibble is a 3+ month old ball of cuteness. He ...</td>\n      <td>86e1089a3</td>\n      <td>1.0</td>\n      <td>2</td>\n      <td>1</td>\n      <td>2</td>\n      <td>359</td>\n      <td>69</td>\n      <td>en</td>\n      <td>0.000</td>\n      <td>0.742</td>\n      <td>0.258</td>\n      <td>0.9552</td>\n      <td>pos</td>\n      <td>1</td>\n      <td>0</td>\n      <td>0</td>\n      <td>0</td>\n      <td>0</td>\n      <td>1</td>\n      <td>0</td>\n      <td>0</td>\n      <td>0</td>\n      <td>0</td>\n      <td>0</td>\n      <td>0</td>\n      <td>1</td>\n    </tr>\n    <tr>\n      <th>1</th>\n      <td>2</td>\n      <td>No Name Yet</td>\n      <td>1</td>\n      <td>265</td>\n      <td>0</td>\n      <td>1</td>\n      <td>1</td>\n      <td>2</td>\n      <td>0</td>\n      <td>2</td>\n      <td>2</td>\n      <td>3</td>\n      <td>3</td>\n      <td>3</td>\n      <td>1</td>\n      <td>1</td>\n      <td>0</td>\n      <td>41401</td>\n      <td>3082c7125d8fb66f7dd4bff4192c8b14</td>\n      <td>0</td>\n      <td>I just found it alone yesterday near my apartm...</td>\n      <td>6296e909a</td>\n      <td>2.0</td>\n      <td>0</td>\n      <td>1</td>\n      <td>2</td>\n      <td>118</td>\n      <td>23</td>\n      <td>en</td>\n      <td>0.149</td>\n      <td>0.723</td>\n      <td>0.129</td>\n      <td>0.1280</td>\n      <td>pos</td>\n      <td>1</td>\n      <td>1</td>\n      <td>0</td>\n      <td>0</td>\n      <td>0</td>\n      <td>0</td>\n      <td>0</td>\n      <td>0</td>\n      <td>0</td>\n      <td>0</td>\n      <td>0</td>\n      <td>0</td>\n      <td>1</td>\n    </tr>\n    <tr>\n      <th>2</th>\n      <td>1</td>\n      <td>Brisco</td>\n      <td>1</td>\n      <td>307</td>\n      <td>0</td>\n      <td>1</td>\n      <td>2</td>\n      <td>7</td>\n      <td>0</td>\n      <td>2</td>\n      <td>2</td>\n      <td>1</td>\n      <td>1</td>\n      <td>2</td>\n      <td>1</td>\n      <td>1</td>\n      <td>0</td>\n      <td>41326</td>\n      <td>fa90fa5b1ee11c86938398b60abc32cb</td>\n      <td>0</td>\n      <td>Their pregnant mother was dumped by her irresp...</td>\n      <td>3422e4906</td>\n      <td>7.0</td>\n      <td>3</td>\n      <td>1</td>\n      <td>2</td>\n      <td>393</td>\n      <td>69</td>\n      <td>en</td>\n      <td>0.095</td>\n      <td>0.706</td>\n      <td>0.200</td>\n      <td>0.7650</td>\n      <td>pos</td>\n      <td>0</td>\n      <td>1</td>\n      <td>0</td>\n      <td>0</td>\n      <td>0</td>\n      <td>1</td>\n      <td>0</td>\n      <td>0</td>\n      <td>0</td>\n      <td>0</td>\n      <td>0</td>\n      <td>0</td>\n      <td>1</td>\n    </tr>\n    <tr>\n      <th>3</th>\n      <td>1</td>\n      <td>Miko</td>\n      <td>4</td>\n      <td>307</td>\n      <td>0</td>\n      <td>2</td>\n      <td>1</td>\n      <td>2</td>\n      <td>0</td>\n      <td>2</td>\n      <td>1</td>\n      <td>1</td>\n      <td>1</td>\n      <td>2</td>\n      <td>1</td>\n      <td>1</td>\n      <td>150</td>\n      <td>41401</td>\n      <td>9238e4f44c71a75282e62f7136c6b240</td>\n      <td>0</td>\n      <td>Good guard dog, very alert, active, obedience ...</td>\n      <td>5842f1ff5</td>\n      <td>8.0</td>\n      <td>2</td>\n      <td>1</td>\n      <td>2</td>\n      <td>146</td>\n      <td>25</td>\n      <td>en</td>\n      <td>0.000</td>\n      <td>0.490</td>\n      <td>0.510</td>\n      <td>0.9494</td>\n      <td>pos</td>\n      <td>1</td>\n      <td>1</td>\n      <td>0</td>\n      <td>0</td>\n      <td>0</td>\n      <td>0</td>\n      <td>0</td>\n      <td>0</td>\n      <td>0</td>\n      <td>0</td>\n      <td>0</td>\n      <td>0</td>\n      <td>1</td>\n    </tr>\n    <tr>\n      <th>4</th>\n      <td>1</td>\n      <td>Hunter</td>\n      <td>1</td>\n      <td>307</td>\n      <td>0</td>\n      <td>1</td>\n      <td>1</td>\n      <td>0</td>\n      <td>0</td>\n      <td>2</td>\n      <td>1</td>\n      <td>2</td>\n      <td>2</td>\n      <td>2</td>\n      <td>1</td>\n      <td>1</td>\n      <td>0</td>\n      <td>41326</td>\n      <td>95481e953f8aed9ec3d16fc4509537e8</td>\n      <td>0</td>\n      <td>This handsome yet cute boy is up for adoption....</td>\n      <td>850a43f90</td>\n      <td>3.0</td>\n      <td>2</td>\n      <td>1</td>\n      <td>1</td>\n      <td>390</td>\n      <td>81</td>\n      <td>en</td>\n      <td>0.000</td>\n      <td>0.635</td>\n      <td>0.365</td>\n      <td>0.9880</td>\n      <td>pos</td>\n      <td>1</td>\n      <td>0</td>\n      <td>0</td>\n      <td>0</td>\n      <td>0</td>\n      <td>0</td>\n      <td>0</td>\n      <td>0</td>\n      <td>0</td>\n      <td>0</td>\n      <td>0</td>\n      <td>0</td>\n      <td>1</td>\n    </tr>\n  </tbody>\n</table>\n</div>"
     },
     "metadata": {},
     "execution_count": 14
    }
   ],
   "source": [
    "state_dummy = pd.get_dummies(state_other, prefix='State')\n",
    "df = pd.concat([df, state_dummy], axis=1)\n",
    "df.head()"
   ]
  },
  {
   "cell_type": "code",
   "execution_count": 15,
   "metadata": {},
   "outputs": [],
   "source": [
    "df.to_csv('df2.csv', index=False)"
   ]
  },
  {
   "cell_type": "code",
   "execution_count": null,
   "metadata": {},
   "outputs": [],
   "source": []
  }
 ],
 "metadata": {
  "language_info": {
   "codemirror_mode": {
    "name": "ipython",
    "version": 3
   },
   "file_extension": ".py",
   "mimetype": "text/x-python",
   "name": "python",
   "nbconvert_exporter": "python",
   "pygments_lexer": "ipython3",
   "version": "3.7.4-final"
  },
  "orig_nbformat": 2,
  "kernelspec": {
   "name": "python37464bit06eb974b5bdf482e8b42957563ed899e",
   "display_name": "Python 3.7.4 64-bit"
  }
 },
 "nbformat": 4,
 "nbformat_minor": 2
}