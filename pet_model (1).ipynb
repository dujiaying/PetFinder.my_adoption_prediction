{
 "cells": [
  {
   "cell_type": "code",
   "execution_count": 52,
   "metadata": {},
   "outputs": [],
   "source": [
    "from imblearn.over_sampling import ADASYN, SMOTE, RandomOverSampler\n",
    "from sklearn.model_selection import train_test_split\n",
    "import matplotlib.pyplot as plt\n",
    "import seaborn as sns\n",
    "import pandas as pd\n",
    "import numpy as np\n",
    "from sklearn import metrics\n",
    "from sklearn.linear_model import LogisticRegression\n",
    "from sklearn.preprocessing import StandardScaler\n",
    "from sklearn.metrics import classification_report, confusion_matrix, accuracy_score\n",
    "from sklearn.model_selection import GridSearchCV\n",
    "from sklearn.svm import SVC\n",
    "import re\n",
    "from sklearn.pipeline import Pipeline\n",
    "from sklearn.model_selection import RandomizedSearchCV\n",
    "\n",
    "from imblearn.pipeline import Pipeline\n",
    "from hyperopt import hp"
   ]
  },
  {
   "cell_type": "code",
   "execution_count": 53,
   "metadata": {},
   "outputs": [
    {
     "data": {
      "text/plain": [
       "4    4197\n",
       "2    4037\n",
       "3    3259\n",
       "1    3090\n",
       "0     410\n",
       "Name: AdoptionSpeed, dtype: int64"
      ]
     },
     "execution_count": 53,
     "metadata": {},
     "output_type": "execute_result"
    }
   ],
   "source": [
    "\n",
    "cf = pd.read_csv('clean_features.csv').set_index('PetID')\n",
    "cf.AdoptionSpeed.value_counts()"
   ]
  },
  {
   "cell_type": "code",
   "execution_count": 3,
   "metadata": {},
   "outputs": [],
   "source": [
    "X = cf.drop(columns = 'AdoptionSpeed')\n",
    "y= cf['AdoptionSpeed']\n",
    "\n",
    "\n",
    "X_train, X_test, y_train, y_test = train_test_split(X, y , test_size = 0.2, random_state = 42)\n"
   ]
  },
  {
   "cell_type": "markdown",
   "metadata": {},
   "source": [
    "# Logistic Regression"
   ]
  },
  {
   "cell_type": "code",
   "execution_count": 6,
   "metadata": {},
   "outputs": [
    {
     "data": {
      "text/plain": [
       "array([0.34274673, 0.34542212, 0.36385256, 0.35136742, 0.35731272])"
      ]
     },
     "execution_count": 6,
     "metadata": {},
     "output_type": "execute_result"
    }
   ],
   "source": [
    "from sklearn.model_selection import cross_val_score\n",
    "\n",
    "logis = LogisticRegression(solver = 'lbfgs',max_iter = 1000)\n",
    "cross_val_score(logis, X_train, y_train , cv=5)"
   ]
  },
  {
   "cell_type": "code",
   "execution_count": 7,
   "metadata": {},
   "outputs": [
    {
     "name": "stdout",
     "output_type": "stream",
     "text": [
      "Accuracy: 0.31210\n",
      "              precision    recall  f1-score   support\n",
      "\n",
      "           0       0.07      0.50      0.13        92\n",
      "           1       0.30      0.27      0.28       627\n",
      "           2       0.37      0.13      0.19       806\n",
      "           3       0.32      0.29      0.30       641\n",
      "           4       0.46      0.52      0.49       833\n",
      "\n",
      "    accuracy                           0.31      2999\n",
      "   macro avg       0.30      0.34      0.28      2999\n",
      "weighted avg       0.36      0.31      0.31      2999\n",
      "\n"
     ]
    }
   ],
   "source": [
    "from sklearn.model_selection import cross_val_score\n",
    "\n",
    "logis = LogisticRegression(solver = 'lbfgs',max_iter = 1000)\n",
    "logis.fit(X_train, y_train)\n",
    "y_pred = logis.predict(X_test_s)\n",
    "accuracy = metrics.accuracy_score(y_test, y_pred)\n",
    "print('Accuracy: {:.5f}'.format(accuracy))\n",
    "\n",
    "print(classification_report(y_test, y_pred))"
   ]
  },
  {
   "cell_type": "code",
   "execution_count": 8,
   "metadata": {},
   "outputs": [
    {
     "name": "stdout",
     "output_type": "stream",
     "text": [
      "Accuracy: 0.36641\n",
      "              precision    recall  f1-score   support\n",
      "\n",
      "           0       0.40      0.57      0.47      3364\n",
      "           1       0.33      0.31      0.32      3364\n",
      "           2       0.30      0.12      0.17      3364\n",
      "           3       0.36      0.33      0.34      3364\n",
      "           4       0.38      0.51      0.43      3364\n",
      "\n",
      "    accuracy                           0.37     16820\n",
      "   macro avg       0.35      0.37      0.35     16820\n",
      "weighted avg       0.35      0.37      0.35     16820\n",
      "\n"
     ]
    }
   ],
   "source": [
    "y_pred_tr = logis.predict(X_train)\n",
    "accuracy = metrics.accuracy_score(y_train, y_pred_tr)\n",
    "print('Accuracy: {:.5f}'.format(accuracy))\n",
    "print(classification_report(y_train, y_pred_tr))"
   ]
  },
  {
   "cell_type": "code",
   "execution_count": 18,
   "metadata": {},
   "outputs": [
    {
     "name": "stdout",
     "output_type": "stream",
     "text": [
      "Accuracy: 0.44699\n",
      "              precision    recall  f1-score   support\n",
      "\n",
      "           0       0.66      0.77      0.71       840\n",
      "           1       0.34      0.25      0.29       829\n",
      "           2       0.34      0.34      0.34       828\n",
      "           3       0.43      0.23      0.30       871\n",
      "           4       0.41      0.65      0.50       829\n",
      "\n",
      "    accuracy                           0.45      4197\n",
      "   macro avg       0.44      0.45      0.43      4197\n",
      "weighted avg       0.44      0.45      0.43      4197\n",
      "\n"
     ]
    }
   ],
   "source": [
    "param_grid = {'C': [0.001, 0.01, 0.1, 1, 10, 100, 1000] }\n",
    "clf = GridSearchCV(LogisticRegression(penalty='l2',solver = 'lbfgs',max_iter = 1000), param_grid)\n",
    "clf.fit(X_train_s, y_train)\n",
    "y_pred = clf.predict(X_test_s)\n",
    "accuracy = metrics.accuracy_score(y_test, y_pred)\n",
    "print('Accuracy: {:.5f}'.format(accuracy))\n",
    "print(classification_report(y_test, y_pred))"
   ]
  },
  {
   "cell_type": "markdown",
   "metadata": {},
   "source": [
    "# Linear SVC"
   ]
  },
  {
   "cell_type": "code",
   "execution_count": 20,
   "metadata": {},
   "outputs": [
    {
     "name": "stdout",
     "output_type": "stream",
     "text": [
      "Accuracy: 0.43650\n",
      "              precision    recall  f1-score   support\n",
      "\n",
      "           0       0.67      0.78      0.72       840\n",
      "           1       0.31      0.25      0.28       829\n",
      "           2       0.34      0.36      0.35       828\n",
      "           3       0.43      0.15      0.22       871\n",
      "           4       0.40      0.65      0.49       829\n",
      "\n",
      "    accuracy                           0.44      4197\n",
      "   macro avg       0.43      0.44      0.41      4197\n",
      "weighted avg       0.43      0.44      0.41      4197\n",
      "\n"
     ]
    }
   ],
   "source": [
    "svc = SVC(kernel='linear')\n",
    "svc.fit(X_train_s, y_train)\n",
    "y_pred = svc.predict(X_test_s)\n",
    "accuracy = metrics.accuracy_score(y_test, y_pred)\n",
    "print('Accuracy: {:.5f}'.format(accuracy))\n",
    "print(classification_report(y_test, y_pred))"
   ]
  },
  {
   "cell_type": "markdown",
   "metadata": {},
   "source": [
    "#  Polynomial Kernel"
   ]
  },
  {
   "cell_type": "code",
   "execution_count": 5,
   "metadata": {},
   "outputs": [
    {
     "name": "stdout",
     "output_type": "stream",
     "text": [
      "Accuracy: 0.28568\n",
      "              precision    recall  f1-score   support\n",
      "\n",
      "           0       0.25      0.97      0.39       840\n",
      "           1       0.41      0.10      0.17       829\n",
      "           2       0.36      0.10      0.16       828\n",
      "           3       0.49      0.13      0.20       871\n",
      "           4       0.48      0.12      0.19       829\n",
      "\n",
      "    accuracy                           0.29      4197\n",
      "   macro avg       0.40      0.29      0.22      4197\n",
      "weighted avg       0.40      0.29      0.22      4197\n",
      "\n"
     ]
    }
   ],
   "source": [
    "svcpoly = SVC(kernel='poly', degree=8)\n",
    "svcpoly.fit(X_train_s, y_train)\n",
    "y_pred = svcpoly.predict(X_test_s)\n",
    "accuracy = metrics.accuracy_score(y_test, y_pred)\n",
    "print('Accuracy: {:.5f}'.format(accuracy))\n",
    "print(classification_report(y_test, y_pred))"
   ]
  },
  {
   "cell_type": "markdown",
   "metadata": {},
   "source": [
    "# Gaussian Kernel"
   ]
  },
  {
   "cell_type": "code",
   "execution_count": 6,
   "metadata": {},
   "outputs": [
    {
     "data": {
      "text/plain": [
       "0.7837217269071836"
      ]
     },
     "execution_count": 6,
     "metadata": {},
     "output_type": "execute_result"
    }
   ],
   "source": [
    "svcrbf = SVC(kernel='rbf',probability=True)\n",
    "svcrbf.fit(X_train_s, y_train)\n",
    "y_pred_prob = svcrbf.predict_proba(X_test_s)\n",
    "\n",
    "from sklearn.metrics import roc_auc_score\n",
    "roc_auc_score(y_test, y_pred_prob, multi_class = 'ovr')"
   ]
  },
  {
   "cell_type": "code",
   "execution_count": 11,
   "metadata": {},
   "outputs": [
    {
     "name": "stdout",
     "output_type": "stream",
     "text": [
      "Accuracy: 0.49297\n",
      "              precision    recall  f1-score   support\n",
      "\n",
      "           0       0.78      0.90      0.84       840\n",
      "           1       0.40      0.38      0.39       829\n",
      "           2       0.34      0.36      0.35       828\n",
      "           3       0.43      0.31      0.36       871\n",
      "           4       0.47      0.52      0.49       829\n",
      "\n",
      "    accuracy                           0.49      4197\n",
      "   macro avg       0.48      0.49      0.49      4197\n",
      "weighted avg       0.48      0.49      0.48      4197\n",
      "\n"
     ]
    }
   ],
   "source": [
    "param_grid = {'C': [1, 5, 10, 50],\n",
    "              'gamma': [0.0001, 0.0005, 0.001, 0.005]}\n",
    "grid = GridSearchCV(SVC(kernel='rbf'), param_grid)\n",
    "grid.fit(X_train_s, y_train)\n",
    "y_pred = grid.predict(X_test_s)\n",
    "accuracy = metrics.accuracy_score(y_test, y_pred)\n",
    "print('Accuracy: {:.5f}'.format(accuracy))\n",
    "print(classification_report(y_test, y_pred))\n",
    "\n",
    "roc_auc_score(y_true, y_scores)"
   ]
  },
  {
   "cell_type": "code",
   "execution_count": 88,
   "metadata": {},
   "outputs": [
    {
     "name": "stdout",
     "output_type": "stream",
     "text": [
      "Accuracy: 0.80754\n",
      "              precision    recall  f1-score   support\n",
      "\n",
      "           0       0.87      0.97      0.92      3357\n",
      "           1       0.79      0.74      0.77      3368\n",
      "           2       0.74      0.77      0.76      3369\n",
      "           3       0.85      0.69      0.76      3326\n",
      "           4       0.79      0.86      0.82      3368\n",
      "\n",
      "    accuracy                           0.81     16788\n",
      "   macro avg       0.81      0.81      0.81     16788\n",
      "weighted avg       0.81      0.81      0.81     16788\n",
      "\n"
     ]
    }
   ],
   "source": [
    "y_pred_tr = grid.predict(X_train_s)\n",
    "accuracy = metrics.accuracy_score(y_train, y_pred_tr)\n",
    "print('Accuracy: {:.5f}'.format(accuracy))\n",
    "print(classification_report(y_train, y_pred_tr))"
   ]
  },
  {
   "cell_type": "markdown",
   "metadata": {},
   "source": [
    "# Sigmoid Kernel"
   ]
  },
  {
   "cell_type": "code",
   "execution_count": 7,
   "metadata": {},
   "outputs": [
    {
     "name": "stdout",
     "output_type": "stream",
     "text": [
      "Accuracy: 0.34977\n",
      "              precision    recall  f1-score   support\n",
      "\n",
      "           0       0.60      0.66      0.63       840\n",
      "           1       0.25      0.27      0.26       829\n",
      "           2       0.23      0.19      0.21       828\n",
      "           3       0.26      0.19      0.22       871\n",
      "           4       0.35      0.44      0.39       829\n",
      "\n",
      "    accuracy                           0.35      4197\n",
      "   macro avg       0.34      0.35      0.34      4197\n",
      "weighted avg       0.34      0.35      0.34      4197\n",
      "\n"
     ]
    }
   ],
   "source": [
    "svcsig = SVC(kernel='sigmoid')\n",
    "svcsig.fit(X_train_s, y_train)\n",
    "y_pred = svcsig.predict(X_test_s)\n",
    "accuracy = metrics.accuracy_score(y_test, y_pred)\n",
    "print('Accuracy: {:.5f}'.format(accuracy))\n",
    "print(classification_report(y_test, y_pred))"
   ]
  },
  {
   "cell_type": "code",
   "execution_count": 54,
   "metadata": {},
   "outputs": [
    {
     "data": {
      "text/html": [
       "<div>\n",
       "<style scoped>\n",
       "    .dataframe tbody tr th:only-of-type {\n",
       "        vertical-align: middle;\n",
       "    }\n",
       "\n",
       "    .dataframe tbody tr th {\n",
       "        vertical-align: top;\n",
       "    }\n",
       "\n",
       "    .dataframe thead th {\n",
       "        text-align: right;\n",
       "    }\n",
       "</style>\n",
       "<table border=\"1\" class=\"dataframe\">\n",
       "  <thead>\n",
       "    <tr style=\"text-align: right;\">\n",
       "      <th></th>\n",
       "      <th>0</th>\n",
       "      <th>1</th>\n",
       "      <th>2</th>\n",
       "      <th>3</th>\n",
       "      <th>4</th>\n",
       "      <th>5</th>\n",
       "      <th>6</th>\n",
       "      <th>7</th>\n",
       "      <th>8</th>\n",
       "      <th>9</th>\n",
       "      <th>...</th>\n",
       "      <th>246</th>\n",
       "      <th>247</th>\n",
       "      <th>248</th>\n",
       "      <th>249</th>\n",
       "      <th>250</th>\n",
       "      <th>251</th>\n",
       "      <th>252</th>\n",
       "      <th>253</th>\n",
       "      <th>254</th>\n",
       "      <th>255</th>\n",
       "    </tr>\n",
       "    <tr>\n",
       "      <th>PetID</th>\n",
       "      <th></th>\n",
       "      <th></th>\n",
       "      <th></th>\n",
       "      <th></th>\n",
       "      <th></th>\n",
       "      <th></th>\n",
       "      <th></th>\n",
       "      <th></th>\n",
       "      <th></th>\n",
       "      <th></th>\n",
       "      <th></th>\n",
       "      <th></th>\n",
       "      <th></th>\n",
       "      <th></th>\n",
       "      <th></th>\n",
       "      <th></th>\n",
       "      <th></th>\n",
       "      <th></th>\n",
       "      <th></th>\n",
       "      <th></th>\n",
       "      <th></th>\n",
       "    </tr>\n",
       "  </thead>\n",
       "  <tbody>\n",
       "    <tr>\n",
       "      <th>86e1089a3</th>\n",
       "      <td>0.002000</td>\n",
       "      <td>0.167800</td>\n",
       "      <td>0.019715</td>\n",
       "      <td>0.015896</td>\n",
       "      <td>0.068162</td>\n",
       "      <td>0.002216</td>\n",
       "      <td>0.005042</td>\n",
       "      <td>0.004828</td>\n",
       "      <td>0.050760</td>\n",
       "      <td>0.047626</td>\n",
       "      <td>...</td>\n",
       "      <td>0.787699</td>\n",
       "      <td>0.176626</td>\n",
       "      <td>0.575706</td>\n",
       "      <td>1.088628</td>\n",
       "      <td>0.439556</td>\n",
       "      <td>0.520460</td>\n",
       "      <td>1.547071</td>\n",
       "      <td>0.832573</td>\n",
       "      <td>0.599093</td>\n",
       "      <td>0.763348</td>\n",
       "    </tr>\n",
       "    <tr>\n",
       "      <th>6296e909a</th>\n",
       "      <td>0.002858</td>\n",
       "      <td>0.107450</td>\n",
       "      <td>0.019916</td>\n",
       "      <td>0.023482</td>\n",
       "      <td>0.174765</td>\n",
       "      <td>0.002297</td>\n",
       "      <td>0.005031</td>\n",
       "      <td>0.006338</td>\n",
       "      <td>0.083378</td>\n",
       "      <td>0.049948</td>\n",
       "      <td>...</td>\n",
       "      <td>0.628259</td>\n",
       "      <td>0.686865</td>\n",
       "      <td>0.564000</td>\n",
       "      <td>0.968190</td>\n",
       "      <td>1.070276</td>\n",
       "      <td>1.545742</td>\n",
       "      <td>0.894409</td>\n",
       "      <td>0.838595</td>\n",
       "      <td>0.468238</td>\n",
       "      <td>0.916672</td>\n",
       "    </tr>\n",
       "    <tr>\n",
       "      <th>3422e4906</th>\n",
       "      <td>0.002734</td>\n",
       "      <td>0.072015</td>\n",
       "      <td>0.024455</td>\n",
       "      <td>0.018021</td>\n",
       "      <td>0.154207</td>\n",
       "      <td>0.001946</td>\n",
       "      <td>0.004211</td>\n",
       "      <td>0.001576</td>\n",
       "      <td>0.100046</td>\n",
       "      <td>0.039717</td>\n",
       "      <td>...</td>\n",
       "      <td>0.579116</td>\n",
       "      <td>0.557625</td>\n",
       "      <td>1.131405</td>\n",
       "      <td>0.720513</td>\n",
       "      <td>1.496671</td>\n",
       "      <td>0.870955</td>\n",
       "      <td>1.289683</td>\n",
       "      <td>1.184462</td>\n",
       "      <td>0.465114</td>\n",
       "      <td>0.892826</td>\n",
       "    </tr>\n",
       "    <tr>\n",
       "      <th>5842f1ff5</th>\n",
       "      <td>0.002106</td>\n",
       "      <td>0.274519</td>\n",
       "      <td>0.054815</td>\n",
       "      <td>0.013727</td>\n",
       "      <td>0.089969</td>\n",
       "      <td>0.001650</td>\n",
       "      <td>0.005506</td>\n",
       "      <td>0.004295</td>\n",
       "      <td>0.118727</td>\n",
       "      <td>0.034790</td>\n",
       "      <td>...</td>\n",
       "      <td>1.295853</td>\n",
       "      <td>0.326143</td>\n",
       "      <td>0.291669</td>\n",
       "      <td>1.608086</td>\n",
       "      <td>1.119176</td>\n",
       "      <td>1.470889</td>\n",
       "      <td>0.591444</td>\n",
       "      <td>0.832755</td>\n",
       "      <td>0.483021</td>\n",
       "      <td>1.134126</td>\n",
       "    </tr>\n",
       "    <tr>\n",
       "      <th>850a43f90</th>\n",
       "      <td>0.002185</td>\n",
       "      <td>0.174022</td>\n",
       "      <td>0.044818</td>\n",
       "      <td>0.016244</td>\n",
       "      <td>0.169775</td>\n",
       "      <td>0.002075</td>\n",
       "      <td>0.004421</td>\n",
       "      <td>0.004157</td>\n",
       "      <td>0.099671</td>\n",
       "      <td>0.034441</td>\n",
       "      <td>...</td>\n",
       "      <td>1.092663</td>\n",
       "      <td>0.669894</td>\n",
       "      <td>0.395784</td>\n",
       "      <td>0.886075</td>\n",
       "      <td>1.219730</td>\n",
       "      <td>1.033966</td>\n",
       "      <td>1.065686</td>\n",
       "      <td>0.304054</td>\n",
       "      <td>0.438069</td>\n",
       "      <td>0.676817</td>\n",
       "    </tr>\n",
       "  </tbody>\n",
       "</table>\n",
       "<p>5 rows × 256 columns</p>\n",
       "</div>"
      ],
      "text/plain": [
       "                  0         1         2         3         4         5  \\\n",
       "PetID                                                                   \n",
       "86e1089a3  0.002000  0.167800  0.019715  0.015896  0.068162  0.002216   \n",
       "6296e909a  0.002858  0.107450  0.019916  0.023482  0.174765  0.002297   \n",
       "3422e4906  0.002734  0.072015  0.024455  0.018021  0.154207  0.001946   \n",
       "5842f1ff5  0.002106  0.274519  0.054815  0.013727  0.089969  0.001650   \n",
       "850a43f90  0.002185  0.174022  0.044818  0.016244  0.169775  0.002075   \n",
       "\n",
       "                  6         7         8         9  ...       246       247  \\\n",
       "PetID                                              ...                       \n",
       "86e1089a3  0.005042  0.004828  0.050760  0.047626  ...  0.787699  0.176626   \n",
       "6296e909a  0.005031  0.006338  0.083378  0.049948  ...  0.628259  0.686865   \n",
       "3422e4906  0.004211  0.001576  0.100046  0.039717  ...  0.579116  0.557625   \n",
       "5842f1ff5  0.005506  0.004295  0.118727  0.034790  ...  1.295853  0.326143   \n",
       "850a43f90  0.004421  0.004157  0.099671  0.034441  ...  1.092663  0.669894   \n",
       "\n",
       "                248       249       250       251       252       253  \\\n",
       "PetID                                                                   \n",
       "86e1089a3  0.575706  1.088628  0.439556  0.520460  1.547071  0.832573   \n",
       "6296e909a  0.564000  0.968190  1.070276  1.545742  0.894409  0.838595   \n",
       "3422e4906  1.131405  0.720513  1.496671  0.870955  1.289683  1.184462   \n",
       "5842f1ff5  0.291669  1.608086  1.119176  1.470889  0.591444  0.832755   \n",
       "850a43f90  0.395784  0.886075  1.219730  1.033966  1.065686  0.304054   \n",
       "\n",
       "                254       255  \n",
       "PetID                          \n",
       "86e1089a3  0.599093  0.763348  \n",
       "6296e909a  0.468238  0.916672  \n",
       "3422e4906  0.465114  0.892826  \n",
       "5842f1ff5  0.483021  1.134126  \n",
       "850a43f90  0.438069  0.676817  \n",
       "\n",
       "[5 rows x 256 columns]"
      ]
     },
     "execution_count": 54,
     "metadata": {},
     "output_type": "execute_result"
    }
   ],
   "source": [
    "imagef = pd.read_csv('img_features.csv').set_index('Unnamed: 0')\n",
    "\n",
    "imagef.index.name = 'PetID'\n",
    "imagef.head()"
   ]
  },
  {
   "cell_type": "code",
   "execution_count": 55,
   "metadata": {},
   "outputs": [],
   "source": [
    "nmerge = imagef.merge(cf, on='PetID', how='outer')"
   ]
  },
  {
   "cell_type": "code",
   "execution_count": 56,
   "metadata": {},
   "outputs": [
    {
     "data": {
      "text/html": [
       "<div>\n",
       "<style scoped>\n",
       "    .dataframe tbody tr th:only-of-type {\n",
       "        vertical-align: middle;\n",
       "    }\n",
       "\n",
       "    .dataframe tbody tr th {\n",
       "        vertical-align: top;\n",
       "    }\n",
       "\n",
       "    .dataframe thead th {\n",
       "        text-align: right;\n",
       "    }\n",
       "</style>\n",
       "<table border=\"1\" class=\"dataframe\">\n",
       "  <thead>\n",
       "    <tr style=\"text-align: right;\">\n",
       "      <th></th>\n",
       "      <th>0_x</th>\n",
       "      <th>1_x</th>\n",
       "      <th>2_x</th>\n",
       "      <th>3_x</th>\n",
       "      <th>4_x</th>\n",
       "      <th>5_x</th>\n",
       "      <th>6_x</th>\n",
       "      <th>7_x</th>\n",
       "      <th>8_x</th>\n",
       "      <th>9_x</th>\n",
       "      <th>...</th>\n",
       "      <th>10_y</th>\n",
       "      <th>11_y</th>\n",
       "      <th>12_y</th>\n",
       "      <th>13_y</th>\n",
       "      <th>14_y</th>\n",
       "      <th>15_y</th>\n",
       "      <th>16_y</th>\n",
       "      <th>17_y</th>\n",
       "      <th>18_y</th>\n",
       "      <th>19_y</th>\n",
       "    </tr>\n",
       "    <tr>\n",
       "      <th>PetID</th>\n",
       "      <th></th>\n",
       "      <th></th>\n",
       "      <th></th>\n",
       "      <th></th>\n",
       "      <th></th>\n",
       "      <th></th>\n",
       "      <th></th>\n",
       "      <th></th>\n",
       "      <th></th>\n",
       "      <th></th>\n",
       "      <th></th>\n",
       "      <th></th>\n",
       "      <th></th>\n",
       "      <th></th>\n",
       "      <th></th>\n",
       "      <th></th>\n",
       "      <th></th>\n",
       "      <th></th>\n",
       "      <th></th>\n",
       "      <th></th>\n",
       "      <th></th>\n",
       "    </tr>\n",
       "  </thead>\n",
       "  <tbody>\n",
       "    <tr>\n",
       "      <th>86e1089a3</th>\n",
       "      <td>0.002000</td>\n",
       "      <td>0.167800</td>\n",
       "      <td>0.019715</td>\n",
       "      <td>0.015896</td>\n",
       "      <td>0.068162</td>\n",
       "      <td>0.002216</td>\n",
       "      <td>0.005042</td>\n",
       "      <td>0.004828</td>\n",
       "      <td>0.050760</td>\n",
       "      <td>0.047626</td>\n",
       "      <td>...</td>\n",
       "      <td>0.009754</td>\n",
       "      <td>-0.002826</td>\n",
       "      <td>-0.018925</td>\n",
       "      <td>-0.012456</td>\n",
       "      <td>0.000584</td>\n",
       "      <td>-0.014139</td>\n",
       "      <td>-0.007550</td>\n",
       "      <td>0.018987</td>\n",
       "      <td>0.009588</td>\n",
       "      <td>0.009349</td>\n",
       "    </tr>\n",
       "    <tr>\n",
       "      <th>6296e909a</th>\n",
       "      <td>0.002858</td>\n",
       "      <td>0.107450</td>\n",
       "      <td>0.019916</td>\n",
       "      <td>0.023482</td>\n",
       "      <td>0.174765</td>\n",
       "      <td>0.002297</td>\n",
       "      <td>0.005031</td>\n",
       "      <td>0.006338</td>\n",
       "      <td>0.083378</td>\n",
       "      <td>0.049948</td>\n",
       "      <td>...</td>\n",
       "      <td>-0.010259</td>\n",
       "      <td>0.008178</td>\n",
       "      <td>0.010272</td>\n",
       "      <td>0.003087</td>\n",
       "      <td>-0.001423</td>\n",
       "      <td>-0.005038</td>\n",
       "      <td>-0.003081</td>\n",
       "      <td>0.009825</td>\n",
       "      <td>0.003104</td>\n",
       "      <td>0.006718</td>\n",
       "    </tr>\n",
       "    <tr>\n",
       "      <th>3422e4906</th>\n",
       "      <td>0.002734</td>\n",
       "      <td>0.072015</td>\n",
       "      <td>0.024455</td>\n",
       "      <td>0.018021</td>\n",
       "      <td>0.154207</td>\n",
       "      <td>0.001946</td>\n",
       "      <td>0.004211</td>\n",
       "      <td>0.001576</td>\n",
       "      <td>0.100046</td>\n",
       "      <td>0.039717</td>\n",
       "      <td>...</td>\n",
       "      <td>0.044125</td>\n",
       "      <td>-0.050633</td>\n",
       "      <td>0.041106</td>\n",
       "      <td>0.008243</td>\n",
       "      <td>0.024158</td>\n",
       "      <td>-0.030801</td>\n",
       "      <td>0.012797</td>\n",
       "      <td>-0.050066</td>\n",
       "      <td>-0.023363</td>\n",
       "      <td>-0.057766</td>\n",
       "    </tr>\n",
       "    <tr>\n",
       "      <th>5842f1ff5</th>\n",
       "      <td>0.002106</td>\n",
       "      <td>0.274519</td>\n",
       "      <td>0.054815</td>\n",
       "      <td>0.013727</td>\n",
       "      <td>0.089969</td>\n",
       "      <td>0.001650</td>\n",
       "      <td>0.005506</td>\n",
       "      <td>0.004295</td>\n",
       "      <td>0.118727</td>\n",
       "      <td>0.034790</td>\n",
       "      <td>...</td>\n",
       "      <td>-0.000498</td>\n",
       "      <td>0.044688</td>\n",
       "      <td>-0.034980</td>\n",
       "      <td>0.002213</td>\n",
       "      <td>-0.094938</td>\n",
       "      <td>0.060292</td>\n",
       "      <td>0.026551</td>\n",
       "      <td>-0.040345</td>\n",
       "      <td>-0.087958</td>\n",
       "      <td>0.000022</td>\n",
       "    </tr>\n",
       "    <tr>\n",
       "      <th>850a43f90</th>\n",
       "      <td>0.002185</td>\n",
       "      <td>0.174022</td>\n",
       "      <td>0.044818</td>\n",
       "      <td>0.016244</td>\n",
       "      <td>0.169775</td>\n",
       "      <td>0.002075</td>\n",
       "      <td>0.004421</td>\n",
       "      <td>0.004157</td>\n",
       "      <td>0.099671</td>\n",
       "      <td>0.034441</td>\n",
       "      <td>...</td>\n",
       "      <td>-0.009017</td>\n",
       "      <td>0.015145</td>\n",
       "      <td>0.099046</td>\n",
       "      <td>0.026728</td>\n",
       "      <td>0.011302</td>\n",
       "      <td>0.002314</td>\n",
       "      <td>0.000365</td>\n",
       "      <td>0.017789</td>\n",
       "      <td>0.066420</td>\n",
       "      <td>0.038391</td>\n",
       "    </tr>\n",
       "  </tbody>\n",
       "</table>\n",
       "<p>5 rows × 323 columns</p>\n",
       "</div>"
      ],
      "text/plain": [
       "                0_x       1_x       2_x       3_x       4_x       5_x  \\\n",
       "PetID                                                                   \n",
       "86e1089a3  0.002000  0.167800  0.019715  0.015896  0.068162  0.002216   \n",
       "6296e909a  0.002858  0.107450  0.019916  0.023482  0.174765  0.002297   \n",
       "3422e4906  0.002734  0.072015  0.024455  0.018021  0.154207  0.001946   \n",
       "5842f1ff5  0.002106  0.274519  0.054815  0.013727  0.089969  0.001650   \n",
       "850a43f90  0.002185  0.174022  0.044818  0.016244  0.169775  0.002075   \n",
       "\n",
       "                6_x       7_x       8_x       9_x  ...      10_y      11_y  \\\n",
       "PetID                                              ...                       \n",
       "86e1089a3  0.005042  0.004828  0.050760  0.047626  ...  0.009754 -0.002826   \n",
       "6296e909a  0.005031  0.006338  0.083378  0.049948  ... -0.010259  0.008178   \n",
       "3422e4906  0.004211  0.001576  0.100046  0.039717  ...  0.044125 -0.050633   \n",
       "5842f1ff5  0.005506  0.004295  0.118727  0.034790  ... -0.000498  0.044688   \n",
       "850a43f90  0.004421  0.004157  0.099671  0.034441  ... -0.009017  0.015145   \n",
       "\n",
       "               12_y      13_y      14_y      15_y      16_y      17_y  \\\n",
       "PetID                                                                   \n",
       "86e1089a3 -0.018925 -0.012456  0.000584 -0.014139 -0.007550  0.018987   \n",
       "6296e909a  0.010272  0.003087 -0.001423 -0.005038 -0.003081  0.009825   \n",
       "3422e4906  0.041106  0.008243  0.024158 -0.030801  0.012797 -0.050066   \n",
       "5842f1ff5 -0.034980  0.002213 -0.094938  0.060292  0.026551 -0.040345   \n",
       "850a43f90  0.099046  0.026728  0.011302  0.002314  0.000365  0.017789   \n",
       "\n",
       "               18_y      19_y  \n",
       "PetID                          \n",
       "86e1089a3  0.009588  0.009349  \n",
       "6296e909a  0.003104  0.006718  \n",
       "3422e4906 -0.023363 -0.057766  \n",
       "5842f1ff5 -0.087958  0.000022  \n",
       "850a43f90  0.066420  0.038391  \n",
       "\n",
       "[5 rows x 323 columns]"
      ]
     },
     "execution_count": 56,
     "metadata": {},
     "output_type": "execute_result"
    }
   ],
   "source": [
    "nmerge.head()"
   ]
  },
  {
   "cell_type": "code",
   "execution_count": 7,
   "metadata": {},
   "outputs": [
    {
     "data": {
      "text/plain": [
       "4    4197\n",
       "2    4037\n",
       "3    3259\n",
       "1    3090\n",
       "0     410\n",
       "Name: AdoptionSpeed, dtype: int64"
      ]
     },
     "execution_count": 7,
     "metadata": {},
     "output_type": "execute_result"
    }
   ],
   "source": [
    "nmerge.AdoptionSpeed.value_counts()"
   ]
  },
  {
   "cell_type": "code",
   "execution_count": 57,
   "metadata": {},
   "outputs": [],
   "source": [
    "X = nmerge.drop(columns = 'AdoptionSpeed')\n",
    "y= nmerge['AdoptionSpeed']\n",
    "\n",
    "\n",
    "X_train, X_test, y_train, y_test = train_test_split(X, y , test_size = 0.2, random_state = 42)\n",
    "\n"
   ]
  },
  {
   "cell_type": "code",
   "execution_count": 58,
   "metadata": {},
   "outputs": [],
   "source": [
    "def build_model(input_model, param_dist):\n",
    "\n",
    "    # define which resampling method and which ML model to use in the pipeline\n",
    "    scaler = StandardScaler()\n",
    "    smote = SMOTE(random_state=42)\n",
    "    model = input_model\n",
    "\n",
    "    # define the pipeline, tell it to combine ADASYN with the Logistic Regression model\n",
    "    pipeline = Pipeline([('Scaler', scaler), ('Oversampling', smote), ('Classifier', model)])\n",
    "\n",
    "    # tune hyperparameter\n",
    "    pipeline = RandomizedSearchCV(pipeline, param_distributions=param_dist, scoring='f1_weighted', \\\n",
    "                                  cv=5, n_iter=30, n_jobs=-1, random_state=42)\n",
    "\n",
    "    # fit the data\n",
    "    pipeline.fit(X_train, y_train)\n",
    "    pipeline = pipeline.best_estimator_\n",
    "    \n",
    "    return pipeline"
   ]
  },
  {
   "cell_type": "code",
   "execution_count": 59,
   "metadata": {},
   "outputs": [],
   "source": [
    "from sklearn.metrics import f1_score,precision_score,recall_score,roc_auc_score\n",
    "\n",
    "def score(model):\n",
    "    y_train_pred = model.predict(X_train)\n",
    "    y_test_pred = model.predict(X_test)\n",
    "    y_pred_proba = model.predict_proba(X_test)\n",
    "    \n",
    "    train_f1 = f1_score(y_train, y_train_pred, average='weighted')\n",
    "    cv_f1 = np.mean(cross_val_score(model, X_train, y_train, cv=5, scoring='f1_weighted', verbose=True, n_jobs=-1))\n",
    "    test_precision = precision_score(y_test, y_test_pred, average='weighted')\n",
    "    test_recall = recall_score(y_test, y_test_pred, average='weighted')\n",
    "    test_f1 = f1_score(y_test, y_test_pred, average='weighted')\n",
    "    test_rocauc = roc_auc_score(y_test, y_pred_proba, multi_class='ovr')\n",
    "    \n",
    "    print(train_f1, cv_f1,test_precision,test_recall,test_f1, test_rocauc )\n",
    "    \n",
    "    "
   ]
  },
  {
   "cell_type": "code",
   "execution_count": 14,
   "metadata": {},
   "outputs": [
    {
     "name": "stderr",
     "output_type": "stream",
     "text": [
      "//anaconda3/lib/python3.7/site-packages/sklearn/model_selection/_search.py:281: UserWarning: The total space of parameters 1 is smaller than n_iter=30. Running 1 iterations. For exhaustive searches, use GridSearchCV.\n",
      "  % (grid_size, self.n_iter, grid_size), UserWarning)\n"
     ]
    }
   ],
   "source": [
    "param_grid = {'Classifier__solver': ['lbfgs'],\n",
    "              'Classifier__max_iter': [1000]}\n",
    "model0 = build_model(LogisticRegression(), param_grid)"
   ]
  },
  {
   "cell_type": "code",
   "execution_count": 28,
   "metadata": {},
   "outputs": [
    {
     "name": "stderr",
     "output_type": "stream",
     "text": [
      "[Parallel(n_jobs=-1)]: Using backend LokyBackend with 8 concurrent workers.\n",
      "[Parallel(n_jobs=-1)]: Done   2 out of   5 | elapsed:   16.4s remaining:   24.6s\n"
     ]
    },
    {
     "name": "stdout",
     "output_type": "stream",
     "text": [
      "0.4045456750820359 0.33965494919160993 0.38053644716843565 0.34811603867955987 0.35764570711600374 0.6508891241166782\n"
     ]
    },
    {
     "name": "stderr",
     "output_type": "stream",
     "text": [
      "[Parallel(n_jobs=-1)]: Done   5 out of   5 | elapsed:   17.3s finished\n"
     ]
    }
   ],
   "source": [
    "score(model0)"
   ]
  },
  {
   "cell_type": "code",
   "execution_count": 30,
   "metadata": {},
   "outputs": [
    {
     "name": "stderr",
     "output_type": "stream",
     "text": [
      "//anaconda3/lib/python3.7/site-packages/sklearn/model_selection/_search.py:281: UserWarning: The total space of parameters 1 is smaller than n_iter=30. Running 1 iterations. For exhaustive searches, use GridSearchCV.\n",
      "  % (grid_size, self.n_iter, grid_size), UserWarning)\n",
      "[Parallel(n_jobs=-1)]: Using backend LokyBackend with 8 concurrent workers.\n",
      "[Parallel(n_jobs=-1)]: Done   2 out of   5 | elapsed: 10.8min remaining: 16.2min\n"
     ]
    },
    {
     "name": "stdout",
     "output_type": "stream",
     "text": [
      "0.4800288385222484 0.3387185837999129 0.35588388705284507 0.3691230410136712 0.3535336075921675 0.6451352827480191\n"
     ]
    },
    {
     "name": "stderr",
     "output_type": "stream",
     "text": [
      "[Parallel(n_jobs=-1)]: Done   5 out of   5 | elapsed: 10.8min finished\n"
     ]
    }
   ],
   "source": [
    "param_grid = {'Classifier__C': [0.15], #0.1: 0.35,0.44\n",
    "              'Classifier__gamma': [0.005]}\n",
    "model1 = build_model(SVC(kernel='rbf',probability=True),param_grid )\n",
    "score(model1)"
   ]
  },
  {
   "cell_type": "code",
   "execution_count": 60,
   "metadata": {},
   "outputs": [],
   "source": [
    "from lightgbm import LGBMClassifier\n",
    "lgbm = LGBMClassifier(random_state = 42)\n"
   ]
  },
  {
   "cell_type": "code",
   "execution_count": 61,
   "metadata": {},
   "outputs": [
    {
     "name": "stderr",
     "output_type": "stream",
     "text": [
      "//anaconda3/lib/python3.7/site-packages/sklearn/model_selection/_search.py:281: UserWarning: The total space of parameters 1 is smaller than n_iter=30. Running 1 iterations. For exhaustive searches, use GridSearchCV.\n",
      "  % (grid_size, self.n_iter, grid_size), UserWarning)\n",
      "[Parallel(n_jobs=-1)]: Using backend LokyBackend with 8 concurrent workers.\n",
      "[Parallel(n_jobs=-1)]: Done   2 out of   5 | elapsed:   16.3s remaining:   24.5s\n"
     ]
    },
    {
     "name": "stdout",
     "output_type": "stream",
     "text": [
      "0.4564296538527003 0.3786055511719018 0.4083473829338526 0.41147049016338777 0.395069829230671 0.6803671237065052\n"
     ]
    },
    {
     "name": "stderr",
     "output_type": "stream",
     "text": [
      "[Parallel(n_jobs=-1)]: Done   5 out of   5 | elapsed:   19.0s finished\n"
     ]
    }
   ],
   "source": [
    "param_grid = {\n",
    "    'Classifier__min_data_in_leaf': [10],\n",
    "    'Classifier__lambda_l1': [0.1],\n",
    "    'Classifier__num_leaves': [5],\n",
    "    'Classifier__max_depth':[7],\n",
    "    'Classifier__feature_fraction': [0.4]\n",
    "}\n",
    "model3 = build_model(lgbm,param_grid )\n",
    "score(model3)\n"
   ]
  },
  {
   "cell_type": "code",
   "execution_count": 47,
   "metadata": {},
   "outputs": [
    {
     "data": {
      "text/plain": [
       "Pipeline(memory=None,\n",
       "         steps=[('Scaler',\n",
       "                 StandardScaler(copy=True, with_mean=True, with_std=True)),\n",
       "                ('Oversampling',\n",
       "                 SMOTE(k_neighbors=5, n_jobs=None, random_state=42,\n",
       "                       sampling_strategy='auto')),\n",
       "                ('Classifier',\n",
       "                 LGBMClassifier(boosting_type='gbdt', class_weight=None,\n",
       "                                colsample_bytree=1.0, feature_fraction=0.4,\n",
       "                                importance_type='split', lambda_l1=0.1,\n",
       "                                learning_rate=0.1, max_depth=7,\n",
       "                                min_child_samples=20, min_child_weight=0.001,\n",
       "                                min_data_in_leaf=10, min_split_gain=0.0,\n",
       "                                n_estimators=100, n_jobs=-1, num_leaves=5,\n",
       "                                objective=None, random_state=42, reg_alpha=0.0,\n",
       "                                reg_lambda=0.0, silent=True, subsample=1.0,\n",
       "                                subsample_for_bin=200000, subsample_freq=0))],\n",
       "         verbose=False)"
      ]
     },
     "execution_count": 47,
     "metadata": {},
     "output_type": "execute_result"
    }
   ],
   "source": [
    "model3"
   ]
  },
  {
   "cell_type": "code",
   "execution_count": 72,
   "metadata": {},
   "outputs": [
    {
     "name": "stderr",
     "output_type": "stream",
     "text": [
      "Setting feature_perturbation = \"tree_path_dependent\" because no background data was given.\n"
     ]
    },
    {
     "name": "stdout",
     "output_type": "stream",
     "text": [
      "CPU times: user 2.65 s, sys: 59.8 ms, total: 2.71 s\n",
      "Wall time: 413 ms\n"
     ]
    }
   ],
   "source": [
    "import shap\n",
    "import lightgbm as lgb\n",
    "scaler = StandardScaler()\n",
    "X_train_s = scaler.fit_transform(X_train)\n",
    "X_test_s = scaler.transform(X_test)\n",
    "\n",
    "smt = SMOTE(random_state=42, k_neighbors=5)\n",
    "X_train_sm, y_train_sm = smt.fit_sample(X_train_s, y_train)\n",
    "\n",
    "lgbm2 =LGBMClassifier(random_state= 42,min_data_in_leaf=10,lambda_l1=0.1, num_leaves=5,max_depth=7,feature_fraction=0.4).fit(X_train_sm, y_train_sm )\n",
    "\n",
    "%time shap_values = shap.TreeExplainer(lgbm2).shap_values(X_test_s)\n",
    "\n"
   ]
  },
  {
   "cell_type": "code",
   "execution_count": null,
   "metadata": {},
   "outputs": [],
   "source": []
  }
 ],
 "metadata": {
  "kernelspec": {
   "display_name": "Python 3",
   "language": "python",
   "name": "python3"
  },
  "language_info": {
   "codemirror_mode": {
    "name": "ipython",
    "version": 3
   },
   "file_extension": ".py",
   "mimetype": "text/x-python",
   "name": "python",
   "nbconvert_exporter": "python",
   "pygments_lexer": "ipython3",
   "version": "3.7.3"
  }
 },
 "nbformat": 4,
 "nbformat_minor": 2
}
